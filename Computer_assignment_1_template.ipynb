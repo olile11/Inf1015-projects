{
  "cells": [
    {
      "cell_type": "markdown",
      "metadata": {
        "id": "gOBJgPwm-7Zd"
      },
      "source": [
        "# **Introduction to Deep Learning for Visual Computing (INF01050 and CMP620)**\n",
        "# **Assignment 1**\n",
        "<!-- # Name(s): <font color='red'>Ulileh</font><font color='red'>Mariana Risco</font> -->\n",
        "### 👩‍💻 Name(s): <span style=\"color:crimson; font-weight:bold;\">Ulileh Indeque and Mariana Risco</span> \n"
      ]
    },
    {
      "cell_type": "code",
      "execution_count": 2,
      "metadata": {
        "colab": {
          "base_uri": "https://localhost:8080/"
        },
        "id": "-KxuOOs6WgyD",
        "outputId": "9d2267b8-f834-4be0-a1ca-556a6654fa95"
      },
      "outputs": [
        {
          "name": "stderr",
          "output_type": "stream",
          "text": [
            "\"wget\" no se reconoce como un comando interno o externo,\n",
            "programa o archivo por lotes ejecutable.\n",
            "\"unzip\" no se reconoce como un comando interno o externo,\n",
            "programa o archivo por lotes ejecutable.\n",
            "\"ls\" no se reconoce como un comando interno o externo,\n",
            "programa o archivo por lotes ejecutable.\n"
          ]
        }
      ],
      "source": [
        "#\n",
        "#  Common header for all students: download and unzip the dataset\n",
        "#\n",
        "!wget https://www.inf.ufrgs.br/~crjung/fdl/modified_voc.zip\n",
        "!unzip modified_voc\n",
        "!ls -l"
      ]
    },
    {
      "cell_type": "markdown",
      "metadata": {
        "id": "yzs8rULS6GoU"
      },
      "source": [
        "From this point on, you should proceed with your solution and discussion\n",
        "\n",
        "**Exercise 1**"
      ]
    }
  ],
  "metadata": {
    "colab": {
      "provenance": []
    },
    "kernelspec": {
      "display_name": "Python 3",
      "name": "python3"
    },
    "language_info": {
      "codemirror_mode": {
        "name": "ipython",
        "version": 3
      },
      "file_extension": ".py",
      "mimetype": "text/x-python",
      "name": "python",
      "nbconvert_exporter": "python",
      "pygments_lexer": "ipython3",
      "version": "3.10.0"
    }
  },
  "nbformat": 4,
  "nbformat_minor": 0
}
